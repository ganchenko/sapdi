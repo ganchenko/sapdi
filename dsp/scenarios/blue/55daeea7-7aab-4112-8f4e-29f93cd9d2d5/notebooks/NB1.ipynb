{
    "cells": [],
    "metadata": {
        "name": "NB1",
        "description": "",
        "scenarioId": "55daeea7-7aab-4112-8f4e-29f93cd9d2d5",
        "createdAt": "2022-07-19T09:19:15Z",
        "createdBy": "sap-di-admin",
        "modifiedAt": "2022-07-19T09:19:15Z",
        "modifiedBy": "sap-di-admin"
    },
    "nbformat": 4,
    "nbformat_minor": 2
}
