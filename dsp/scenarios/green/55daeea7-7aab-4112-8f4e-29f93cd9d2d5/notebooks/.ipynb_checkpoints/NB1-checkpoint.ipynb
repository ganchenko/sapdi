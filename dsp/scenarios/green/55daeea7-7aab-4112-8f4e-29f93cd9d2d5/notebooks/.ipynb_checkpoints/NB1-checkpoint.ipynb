{
 "cells": [
  {
   "cell_type": "code",
   "execution_count": null,
   "metadata": {},
   "outputs": [],
   "source": [
    "outString = '1'"
   ]
  }
 ],
 "metadata": {
  "createdAt": "2022-07-19T09:19:15Z",
  "createdBy": "sap-di-admin",
  "description": "",
  "kernelspec": {
   "display_name": "Python 3",
   "language": "python",
   "name": "python3"
  },
  "language_info": {
   "codemirror_mode": {
    "name": "ipython",
    "version": 3
   },
   "file_extension": ".py",
   "mimetype": "text/x-python",
   "name": "python",
   "nbconvert_exporter": "python",
   "pygments_lexer": "ipython3",
   "version": "3.7.3"
  },
  "modifiedAt": "2022-07-19T09:19:15Z",
  "modifiedBy": "sap-di-admin",
  "name": "NB1",
  "scenarioId": "55daeea7-7aab-4112-8f4e-29f93cd9d2d5"
 },
 "nbformat": 4,
 "nbformat_minor": 4
}
